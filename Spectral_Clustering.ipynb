{
 "metadata": {
  "name": "",
  "signature": "sha256:24c137b20dd73ef91529debed271cdd923bf3c1db17f5681ceb8fc286a34add4"
 },
 "nbformat": 3,
 "nbformat_minor": 0,
 "worksheets": [
  {
   "cells": [
    {
     "cell_type": "code",
     "collapsed": false,
     "input": [
      "import sys\n",
      "import random\n",
      "import numpy as np  \n",
      "import matplotlib.pyplot as plt  \n",
      "from timeit import default_timer as timer\n",
      "from numpy.linalg import norm\n",
      "from scipy.io import loadmat\n",
      "from scipy.linalg import eig  \n",
      "from scipy.cluster.vq import kmeans2  \n",
      "from scipy.sparse.linalg import eigen \n",
      "from scipy.spatial.kdtree import KDTree\n",
      "from sklearn.cluster import KMeans\n",
      "from sklearn.cluster import SpectralClustering"
     ],
     "language": "python",
     "metadata": {},
     "outputs": [],
     "prompt_number": 68
    },
    {
     "cell_type": "code",
     "collapsed": false,
     "input": [
      "def constructKnnGraph(points, numNeighbor):\n",
      "  def euclidean_kernel(a, b):\n",
      "    d = np.linalg.norm(a-b)\n",
      "    return d\n",
      "  knn = {}\n",
      "  kt = KDTree(points)\n",
      "  for i, point in enumerate(points):\n",
      "    for neighbour in kt.query(point, numNeighbor + 1)[1]:\n",
      "      if i != neighbour: \n",
      "        knn.setdefault(i, []).append((euclidean_kernel(point, points[neighbour]), neighbour))\n",
      "  return knn"
     ],
     "language": "python",
     "metadata": {},
     "outputs": [],
     "prompt_number": 69
    },
    {
     "cell_type": "code",
     "collapsed": false,
     "input": [
      "def constructSimilarityGraph(points):\n",
      "  numNeighbor = 300\n",
      "  graphPoints = constructKnnGraph(points, numNeighbor)\n",
      "  return graphPoints"
     ],
     "language": "python",
     "metadata": {},
     "outputs": [],
     "prompt_number": 70
    },
    {
     "cell_type": "code",
     "collapsed": false,
     "input": [
      "def getWeightMatrix(graphPoints):  \n",
      "  n = len(graphPoints)  \n",
      "  W = np.zeros((n, n))  \n",
      "  for point, nearest_neighbours in graphPoints.iteritems():  \n",
      "      for distance, neighbour in nearest_neighbours:  \n",
      "          W[point][neighbour] = distance  \n",
      "  return W  "
     ],
     "language": "python",
     "metadata": {},
     "outputs": [],
     "prompt_number": 71
    },
    {
     "cell_type": "code",
     "collapsed": false,
     "input": [
      "def getDegreeMatrix(W):  \n",
      "  D = np.diag([sum(Wi) for Wi in W])\n",
      "  return D"
     ],
     "language": "python",
     "metadata": {},
     "outputs": [],
     "prompt_number": 72
    },
    {
     "cell_type": "code",
     "collapsed": false,
     "input": [
      "def computeLaplacian(D, W):\n",
      "  L = D - W\n",
      "  return L"
     ],
     "language": "python",
     "metadata": {},
     "outputs": [],
     "prompt_number": 73
    },
    {
     "cell_type": "code",
     "collapsed": false,
     "input": [
      "def constructEigenvectorMatrix(L, numClusters):\n",
      "  evals, evcts = eig(L) \n",
      "  evals, evcts = evals.real, evcts.real \n",
      "  edict = dict(zip(evals, evcts.transpose())) \n",
      "  evals = sorted(edict.keys()) \n",
      "  Y = np.array([edict[k] for k in evals[0:numClusters]]).transpose()\n",
      "  return Y"
     ],
     "language": "python",
     "metadata": {},
     "outputs": [],
     "prompt_number": 74
    },
    {
     "cell_type": "code",
     "collapsed": false,
     "input": [
      "def computeClusterIndex(Y, numClusters, points):\n",
      "  kmeans = KMeans(init='random', n_clusters=numClusters, n_init=10)\n",
      "  labels = kmeans.fit_predict(Y)\n",
      "  clusterIndex = [[] for x in range(numClusters)]\n",
      "  for i in range(0, len(points)):\n",
      "    clusterIndex[labels[i]].append(i) \n",
      "  return [labels, clusterIndex]"
     ],
     "language": "python",
     "metadata": {},
     "outputs": [],
     "prompt_number": 75
    },
    {
     "cell_type": "code",
     "collapsed": false,
     "input": [
      "def getCenters(points, clusterIndex):\n",
      "  numClusters = len(clusterIndex)\n",
      "  dim = points[0].size\n",
      "  centers = []\n",
      "  for i in range(0, len(clusterIndex)):\n",
      "    center = [0] * dim\n",
      "    count = 0\n",
      "    for j in range(0, len(clusterIndex[i])):\n",
      "      center = np.add(center, points[clusterIndex[i][j]])\n",
      "      count += 1\n",
      "    if count != 0:\n",
      "      center = np.divide(center, float(count))\n",
      "    centers.append(center)\n",
      "  return centers"
     ],
     "language": "python",
     "metadata": {},
     "outputs": [],
     "prompt_number": 76
    },
    {
     "cell_type": "code",
     "collapsed": false,
     "input": [
      "def getError(points, clusterIndex, centers):\n",
      "  total_error = 0\n",
      "  for i in range(0, len(clusterIndex)):\n",
      "    for j in range(0, len(clusterIndex[i])):\n",
      "        point = points[clusterIndex[i][j]]\n",
      "        center = centers[i]\n",
      "        distance = norm(point - center)\n",
      "        total_error += distance\n",
      "  return total_error"
     ],
     "language": "python",
     "metadata": {},
     "outputs": [],
     "prompt_number": 77
    },
    {
     "cell_type": "code",
     "collapsed": false,
     "input": [
      "def getData(dir):\n",
      "  data = loadmat(dir)\n",
      "  b = np.array(data['images'])\n",
      "  return b"
     ],
     "language": "python",
     "metadata": {},
     "outputs": [],
     "prompt_number": 78
    },
    {
     "cell_type": "code",
     "collapsed": false,
     "input": [
      "numClusters = 10\n",
      "points = getData('images.mat') # getSamplePoints()\n",
      "sizes = points.shape\n",
      "new_data = []\n",
      "print 'start reshaping data'\n",
      "start = timer()\n",
      "for i in range(sizes[2]):\n",
      "    one_point = points[:, :, i]\n",
      "    one_point = one_point.reshape(784)\n",
      "    new_data.append(one_point)\n",
      "\n",
      "indices = random.sample(range(len(new_data)), 12000)\n",
      "training_data = np.take(new_data, indices, 0)\n",
      "\n",
      "end = timer()\n",
      "print 'done, time: ' + str(end - start)\n",
      "print 'start constructing similarity graph'\n",
      "start = timer()\n",
      "graphPoints = constructSimilarityGraph(training_data)\n",
      "end = timer()\n",
      "print 'done, time: ' + str(end - start)\n",
      "print 'start calculating weight matrix'\n",
      "start = timer()\n",
      "W = getWeightMatrix(graphPoints)\n",
      "end = timer()\n",
      "print 'done, time: ' + str(end - start)\n",
      "print 'start building degree matrix'\n",
      "start = timer()\n",
      "D = getDegreeMatrix(W)\n",
      "end = timer()\n",
      "print 'done, time: ' + str(end - start)\n",
      "print 'start computing laplacian'\n",
      "start = timer()\n",
      "L = computeLaplacian(D, W)\n",
      "end = timer()\n",
      "print 'done, time: ' + str(end - start)\n",
      "print 'start constructing eigenvectors'\n",
      "start = timer()\n",
      "Y = constructEigenvectorMatrix(L, numClusters)\n",
      "end = timer()\n",
      "print 'done, time: ' + str(end - start)\n",
      "print 'start clustering'\n",
      "start = timer()\n",
      "[idex, clusterIndex] = computeClusterIndex(Y, numClusters, training_data)\n",
      "centers = getCenters(training_data, clusterIndex)\n",
      "end = timer()\n",
      "print 'done, time: ' + str(end - start)\n",
      "error = getError(training_data, clusterIndex, centers)\n",
      "print 'error: ' + str(error)"
     ],
     "language": "python",
     "metadata": {},
     "outputs": [
      {
       "output_type": "stream",
       "stream": "stdout",
       "text": [
        "start reshaping data\n",
        "done, time: 5.58407998085"
       ]
      },
      {
       "output_type": "stream",
       "stream": "stdout",
       "text": [
        "\n",
        "start constructing similarity graph\n",
        "done, time: 645.764260054"
       ]
      },
      {
       "output_type": "stream",
       "stream": "stdout",
       "text": [
        "\n",
        "start calculating weight matrix\n",
        "done, time: 3.1189289093"
       ]
      },
      {
       "output_type": "stream",
       "stream": "stdout",
       "text": [
        "\n",
        "start building degree matrix\n",
        "done, time: 66.6324708462"
       ]
      },
      {
       "output_type": "stream",
       "stream": "stdout",
       "text": [
        "\n",
        "start computing laplacian\n",
        "done, time: 1.51828312874"
       ]
      },
      {
       "output_type": "stream",
       "stream": "stdout",
       "text": [
        "\n",
        "start constructing eigenvectors\n",
        "done, time: 1705.10445619"
       ]
      },
      {
       "output_type": "stream",
       "stream": "stdout",
       "text": [
        "\n",
        "start clustering\n",
        "done, time: 1.06039309502"
       ]
      },
      {
       "output_type": "stream",
       "stream": "stdout",
       "text": [
        "\n",
        "error: 21478987.6838"
       ]
      },
      {
       "output_type": "stream",
       "stream": "stdout",
       "text": [
        "\n"
       ]
      }
     ],
     "prompt_number": 79
    },
    {
     "cell_type": "code",
     "collapsed": false,
     "input": [
      "centers = getCenters(new_data, clusterIndex)"
     ],
     "language": "python",
     "metadata": {},
     "outputs": [],
     "prompt_number": 80
    },
    {
     "cell_type": "code",
     "collapsed": false,
     "input": [
      "def gerKMeanErrors(labels, centers, points):\n",
      "    total_error = 0\n",
      "    for i in range(len(points)):\n",
      "        point = points[i]\n",
      "        center = centers[labels[i]]\n",
      "        distance = norm(point - center)\n",
      "        total_error += distance\n",
      "    return total_error"
     ],
     "language": "python",
     "metadata": {},
     "outputs": [],
     "prompt_number": 81
    },
    {
     "cell_type": "code",
     "collapsed": false,
     "input": [
      "print 'start running kmeans'\n",
      "start = timer()\n",
      "kmeans = KMeans(init='random', n_clusters=numClusters, n_init=1)\n",
      "labels = kmeans.fit_predict(training_data)\n",
      "errors = gerKMeanErrors(labels, kmeans.cluster_centers_, training_data)\n",
      "print errors\n",
      "end = timer()\n",
      "print 'done, time: ' + str(end - start)"
     ],
     "language": "python",
     "metadata": {},
     "outputs": [
      {
       "output_type": "stream",
       "stream": "stdout",
       "text": [
        "start running kmeans\n",
        "19589476.2497"
       ]
      },
      {
       "output_type": "stream",
       "stream": "stdout",
       "text": [
        "\n",
        "done, time: 4.48981404305\n"
       ]
      }
     ],
     "prompt_number": 82
    },
    {
     "cell_type": "code",
     "collapsed": false,
     "input": [
      "print errors"
     ],
     "language": "python",
     "metadata": {},
     "outputs": [
      {
       "output_type": "stream",
       "stream": "stdout",
       "text": [
        "19589476.2497\n"
       ]
      }
     ],
     "prompt_number": 83
    },
    {
     "cell_type": "code",
     "collapsed": false,
     "input": [
      "print 'start original spectral clustering'\n",
      "start = timer()\n",
      "spectral = SpectralClustering(n_clusters=numClusters, eigen_solver='arpack', affinity=\"nearest_neighbors\", n_neighbors=300)\n",
      "labels = spectral.fit_predict(training_data)"
     ],
     "language": "python",
     "metadata": {},
     "outputs": [
      {
       "output_type": "stream",
       "stream": "stdout",
       "text": [
        "start original spectral clustering\n"
       ]
      }
     ],
     "prompt_number": 84
    },
    {
     "cell_type": "code",
     "collapsed": false,
     "input": [
      "clusterIndex = [[] for x in range(numClusters)]\n",
      "for i in range(0, len(training_data)):\n",
      "    clusterIndex[labels[i]].append(i)\n",
      "centers = getCenters(training_data, clusterIndex)\n",
      "error = getError(training_data, clusterIndex, centers)\n",
      "end = timer()\n",
      "print 'done, time: ' + str(end - start)"
     ],
     "language": "python",
     "metadata": {},
     "outputs": [
      {
       "output_type": "stream",
       "stream": "stdout",
       "text": [
        "done, time: 536.966704845\n"
       ]
      }
     ],
     "prompt_number": 85
    },
    {
     "cell_type": "code",
     "collapsed": false,
     "input": [
      "print error"
     ],
     "language": "python",
     "metadata": {},
     "outputs": [
      {
       "output_type": "stream",
       "stream": "stdout",
       "text": [
        "19720263.0155\n"
       ]
      }
     ],
     "prompt_number": 86
    },
    {
     "cell_type": "code",
     "collapsed": false,
     "input": [],
     "language": "python",
     "metadata": {},
     "outputs": []
    }
   ],
   "metadata": {}
  }
 ]
}