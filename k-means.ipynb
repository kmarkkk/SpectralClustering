{
 "metadata": {
  "name": "",
  "signature": "sha256:d60a1a7a8a584ddeb107935632c5b9a35e2d5d3dbc2067616bcf75ad45fbff0d"
 },
 "nbformat": 3,
 "nbformat_minor": 0,
 "worksheets": [
  {
   "cells": [
    {
     "cell_type": "code",
     "collapsed": false,
     "input": [
      "import sys\n",
      "import numpy as np  \n",
      "from numpy.linalg import norm\n",
      "from scipy.io import loadmat\n",
      "from sklearn.cluster import KMeans"
     ],
     "language": "python",
     "metadata": {},
     "outputs": [],
     "prompt_number": 34
    },
    {
     "cell_type": "code",
     "collapsed": false,
     "input": [
      "def computeClusterIndex(Y, numClusters, points):\n",
      "  res, idx = KMeans(Y, numClusters, minit='random')\n",
      "  clusterIndex = [[] for x in range(numClusters)]\n",
      "  for i in range(0, len(points)):\n",
      "    clusterIndex[idx[i]].append(i) \n",
      "  return [idx, clusterIndex]"
     ],
     "language": "python",
     "metadata": {},
     "outputs": [],
     "prompt_number": 2
    },
    {
     "cell_type": "code",
     "collapsed": false,
     "input": [
      "def getData(dir):\n",
      "  data = loadmat(dir)\n",
      "  b = np.array(data['images'])\n",
      "  return b"
     ],
     "language": "python",
     "metadata": {},
     "outputs": [],
     "prompt_number": 4
    },
    {
     "cell_type": "code",
     "collapsed": false,
     "input": [
      "def gerErrors(labels, centers, points):\n",
      "    total_error = 0\n",
      "    for i in range(len(points)):\n",
      "        point = points[i]\n",
      "        center = centers[labels[i]]\n",
      "        distance = norm(point - center)\n",
      "        total_error += distance\n",
      "    return total_error"
     ],
     "language": "python",
     "metadata": {},
     "outputs": [],
     "prompt_number": 35
    },
    {
     "cell_type": "code",
     "collapsed": false,
     "input": [
      "numClusters = 10\n",
      "points = getData('images.mat') # getSamplePoints()\n",
      "sizes = points.shape\n",
      "new_data = []\n",
      "for i in range(sizes[2]):\n",
      "    one_point = points[:, :, i]\n",
      "    one_point = one_point.reshape(784)\n",
      "    new_data.append(one_point)\n",
      "kmeans = KMeans(init='k-means++', n_clusters=numClusters, n_init=3)\n",
      "labels = kmeans.fit_predict(new_data)\n",
      "\n",
      "errors = gerErrors(labels, kmeans.cluster_centers_, new_data)"
     ],
     "language": "python",
     "metadata": {},
     "outputs": [],
     "prompt_number": 39
    },
    {
     "cell_type": "code",
     "collapsed": false,
     "input": [
      "print errors"
     ],
     "language": "python",
     "metadata": {},
     "outputs": [
      {
       "output_type": "stream",
       "stream": "stdout",
       "text": [
        "97357694.0088\n"
       ]
      }
     ],
     "prompt_number": 40
    },
    {
     "cell_type": "code",
     "collapsed": false,
     "input": [],
     "language": "python",
     "metadata": {},
     "outputs": []
    }
   ],
   "metadata": {}
  }
 ]
}